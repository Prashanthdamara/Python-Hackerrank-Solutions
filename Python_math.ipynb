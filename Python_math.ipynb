{
 "cells": [
  {
   "cell_type": "markdown",
   "id": "16e9c9c3",
   "metadata": {},
   "source": [
    "### Question1 : Polar coordinates\n",
    "\n",
    "#### cmath.phase\n",
    "- This tool returns the phase of complex number z (also known as the argument of z).\n",
    "\n",
    "- phase(complex(-1.0, 0.0))\n",
    "- 3.1415926535897931\n",
    "#### abs\n",
    "- This tool returns the modulus (absolute value) of complex number z.\n",
    "\n",
    "- abs(complex(-1.0, 0.0))\n",
    "- 1.0\n",
    "\n",
    "#### Task\n",
    "- You are given a complex z. Your task is to convert it to polar coordinates.\n",
    "\n",
    "#### Input Format\n",
    "\n",
    "- A single line containing the complex number z. Note: complex() function can be used in python to convert the input as a complex number.\n",
    "\n",
    "#### Constraints\n",
    "\n",
    "- Given number is a valid complex number\n",
    "\n",
    "#### Output Format\n",
    "\n",
    "- The first line should contain the value of r(modulus).\n",
    "- The second line should contain the value of polar angle(argument)."
   ]
  },
  {
   "cell_type": "code",
   "execution_count": null,
   "id": "3ca6f01c",
   "metadata": {},
   "outputs": [],
   "source": [
    "import cmath\n",
    "from cmath import *\n",
    "a = input().strip()\n",
    "\n",
    "print(abs(complex(a)))\n",
    "print(phase(complex(a)))"
   ]
  },
  {
   "cell_type": "markdown",
   "id": "613d70e9",
   "metadata": {},
   "source": [
    "### question2 : Find Angle MBC"
   ]
  },
  {
   "cell_type": "code",
   "execution_count": null,
   "id": "4af91870",
   "metadata": {},
   "outputs": [],
   "source": [
    "import math as m\n",
    "AB = int(input())\n",
    "BC = int(input())\n",
    "AC = m.hypot(AB,BC)  # or AC = (AB**2+BC**2)**(1/2)\n",
    "MC = AC/2\n",
    "o = BC/AC     #cos_angle = BC/AC\n",
    "\n",
    "MB = m.sqrt(BC**2+MC**2-2*BC*MC*o)    #cosinelaw\n",
    "\n",
    "o1 = (MC*MC -MB*MB-BC*BC)/(-2*MB*BC)\n",
    "o1 = m.acos(o1)\n",
    "o1 = m.degrees(o1)\n",
    "degree_sign = u'\\N{DEGREE SIGN}'\n",
    "print(round(o1),degree_sign,sep=\"\")"
   ]
  },
  {
   "cell_type": "markdown",
   "id": "454ab11b",
   "metadata": {},
   "source": [
    "### question3 : Triangle Quest 2\n",
    "\n",
    "#### You are given a positive integer N.\n",
    "#### Your task is to print a palindromic triangle of size N.\n",
    "\n",
    "#### For example, a palindromic triangle of size 5 is:\n",
    "\n",
    "- 1\n",
    "- 121\n",
    "- 12321\n",
    "- 1234321\n",
    "- 123454321\n",
    "\n",
    "#### You can't take more than two lines. The first line (a for-statement) is already written for you.\n",
    "#### You have to complete the code using exactly one print statement.\n",
    "\n",
    "#### Input Format\n",
    "\n",
    "- A single line of input containing the integer N.\n",
    "\n",
    "#### Output Format\n",
    "\n",
    "- Print the palindromic triangle of size N as explained above."
   ]
  },
  {
   "cell_type": "code",
   "execution_count": null,
   "id": "8eb1c9c4",
   "metadata": {},
   "outputs": [],
   "source": [
    "for i in range(1,int(input())+1): #More than 2 lines will result in 0 score. Do not leave a blank line also\n",
    "    print((10**i-1)//(9)*(10**i-1)//(9)) "
   ]
  },
  {
   "cell_type": "markdown",
   "id": "f92a784d",
   "metadata": {},
   "source": [
    "### question4 : Mod Divmod\n",
    "#### One of the built-in functions of Python is divmod, which takes two arguments a and b and returns a tuple containing the quotient of a/b first and then the remainder a.\n",
    "\n",
    "#### For example:\n",
    "\n",
    "- print divmod(177,10)\n",
    "- (17, 7)\n",
    "#### Here, the integer division is 177/10 => 17 and the modulo operator is 177%10 => 7.\n",
    "\n",
    "#### Task\n",
    "- Read in two integers, a and b, and print three lines.\n",
    "- The first line is the integer division a//b (While using Python2 remember to import division from __future__).\n",
    "- The second line is the result of the modulo operator: a%b.\n",
    "- The third line prints the divmod of a and b.\n",
    "\n",
    "#### Input Format\n",
    "- The first line contains the first integer, a, and the second line contains the second integer, b.\n",
    "\n",
    "#### Output Format\n",
    "- Print the result as described above."
   ]
  },
  {
   "cell_type": "code",
   "execution_count": null,
   "id": "59d649bb",
   "metadata": {},
   "outputs": [],
   "source": [
    "a = int(input())\n",
    "b = int(input())\n",
    "int_div = a//b\n",
    "mod = a%b\n",
    "div_mod = divmod(a,b)\n",
    "print(int_div)\n",
    "print(mod)\n",
    "print(div_mod)\n"
   ]
  },
  {
   "cell_type": "markdown",
   "id": "f7e7f6bf",
   "metadata": {},
   "source": [
    "### question5 : Power - Mod Power\n",
    "\n",
    "#### Powers or exponents in Python can be calculated using the built-in power function. Call the power function as shown below:\n",
    "\n",
    "- pow(a,b) \n",
    "#### or\n",
    "\n",
    "- a**b\n",
    "- It's also possible to calculate a power b and mod m.\n",
    "\n",
    "- pow(a,b,m)  \n",
    "#### This is very helpful in computations where you have to print the resultant % mod.\n",
    "\n",
    "#### Note: Here, a and b can be floats or negatives, but, if a third argument is present, b cannot be negative.\n",
    "\n",
    "#### Note: Python has a math module that has its own pow(). It takes two arguments and returns a float. It is uncommon to use math.pow().\n",
    "\n",
    "#### Task\n",
    "- You are given three integers: a, b, and . Print two lines.\n",
    "- On the first line, print the result of pow(a,b). On the second line, print the result of pow(a,b,m).\n",
    "\n",
    "#### Input Format\n",
    "- The first line contains a, the second line contains b, and the third line contains m."
   ]
  },
  {
   "cell_type": "code",
   "execution_count": null,
   "id": "ed689f82",
   "metadata": {},
   "outputs": [],
   "source": [
    "a = int(input())\n",
    "b = int(input())\n",
    "m = int(input())\n",
    "print(pow(a,b))\n",
    "\n",
    "print(pow(a,b,m))\n"
   ]
  },
  {
   "cell_type": "markdown",
   "id": "1662f143",
   "metadata": {},
   "source": [
    "### question6 : Integers Come In All Sizes\n",
    "#### Task\n",
    "- Read four numbers,a ,b ,c , and d , and print the result of a power b + c power d.\n",
    "\n",
    "#### Input Format\n",
    "- Integers a, b, c, and d are given on four separate lines, respectively.\n",
    "\n",
    "\n",
    "### Output Format\n",
    "- Print the result of a power b and c power d on one line."
   ]
  },
  {
   "cell_type": "code",
   "execution_count": null,
   "id": "07226e3b",
   "metadata": {},
   "outputs": [],
   "source": [
    "a = int(input())\n",
    "b = int(input())\n",
    "c = int(input())\n",
    "d = int(input())\n",
    "print(pow(a,b)+pow(c,d))\n"
   ]
  },
  {
   "cell_type": "markdown",
   "id": "8d86f0f9",
   "metadata": {},
   "source": [
    "### question7 : Triangle Quest \n",
    "#### You are given a positive integer N. Print a numerical triangle of height N-1 like the one below:\n",
    "\n",
    "- 1\n",
    "- 22\n",
    "- 333\n",
    "- 4444\n",
    "- 55555\n",
    "- ......\n",
    "#### Can you do it using only arithmetic operations, a single for loop and print statement?\n",
    "\n",
    "#### Use no more than two lines. The first line (the for statement) is already written for you. You have to complete the print statement.\n",
    "\n",
    "#### Note: Using anything related to strings will give a score of 0.\n",
    "\n",
    "#### Input Format\n",
    "- A single line containing integer, N.\n",
    "\n",
    "#### Output Format\n",
    "- Print N-1 lines as explained above."
   ]
  },
  {
   "cell_type": "code",
   "execution_count": null,
   "id": "06ed8134",
   "metadata": {},
   "outputs": [],
   "source": [
    "for i in range(1,int(input())):\n",
    "    print((10**i//9)*i)\n"
   ]
  }
 ],
 "metadata": {
  "kernelspec": {
   "display_name": "Python 3 (ipykernel)",
   "language": "python",
   "name": "python3"
  },
  "language_info": {
   "codemirror_mode": {
    "name": "ipython",
    "version": 3
   },
   "file_extension": ".py",
   "mimetype": "text/x-python",
   "name": "python",
   "nbconvert_exporter": "python",
   "pygments_lexer": "ipython3",
   "version": "3.9.7"
  }
 },
 "nbformat": 4,
 "nbformat_minor": 5
}
