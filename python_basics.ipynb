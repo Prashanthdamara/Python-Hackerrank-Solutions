{
 "cells": [
  {
   "cell_type": "markdown",
   "id": "8a7c04a8",
   "metadata": {},
   "source": [
    "### Question 1: print(\"Hello, World!\")"
   ]
  },
  {
   "cell_type": "code",
   "execution_count": null,
   "id": "73debe7c",
   "metadata": {},
   "outputs": [],
   "source": [
    "my_string = \"Hello, World!\"\n",
    "print(my_string)"
   ]
  },
  {
   "cell_type": "markdown",
   "id": "191e3054",
   "metadata": {},
   "source": [
    "### Question 2: Given an integer,n , perform the following conditional actions:\n",
    "\n",
    "- If  is n odd, print Weird\n",
    "- If  is n even and in the inclusive range of 2 to 5, print Not Weird\n",
    "- If  is n even and in the inclusive range of 6 to 20, print Weird\n",
    "- If  is n even and greater than 20, print Not Weird"
   ]
  },
  {
   "cell_type": "code",
   "execution_count": null,
   "id": "d109f72d",
   "metadata": {},
   "outputs": [],
   "source": [
    "n = int(raw_input().strip())\n",
    "if n%2 != 0:\n",
    "    print('Weird')\n",
    "elif n%2 == 0 and n >= 2  and n <= 5:\n",
    "    print('Not Weird')\n",
    "elif n%2 == 0 and n >= 6  and n <= 20:\n",
    "    print('Weird')\n",
    "elif n%2 == 0 and n > 20:\n",
    "    print('Not Weird')\n"
   ]
  },
  {
   "cell_type": "markdown",
   "id": "a03a52c0",
   "metadata": {},
   "source": [
    "### Question 3: The provided code stub reads two integers from STDIN,  and . Add code to print three lines where:\n",
    "\n",
    "- The first line contains the sum of the two numbers.\n",
    "- The second line contains the difference of the two numbers (first - second).\n",
    "- The third line contains the product of the two numbers."
   ]
  },
  {
   "cell_type": "code",
   "execution_count": null,
   "id": "78cea893",
   "metadata": {},
   "outputs": [],
   "source": [
    "a = int(raw_input())\n",
    "b = int(raw_input())\n",
    "print(a+b)\n",
    "print(a-b)\n",
    "print(a*b)"
   ]
  },
  {
   "cell_type": "markdown",
   "id": "658e6630",
   "metadata": {},
   "source": [
    "### Question 4:The provided code stub reads two integers,  and , from STDIN.\n",
    "\n",
    "#### Add logic to print two lines. The first line should contain the result of integer division,  // . The second line should contain the result of float division,  / .\n",
    "\n",
    "#### No rounding or formatting is necessary."
   ]
  },
  {
   "cell_type": "code",
   "execution_count": null,
   "id": "cd3f8651",
   "metadata": {},
   "outputs": [],
   "source": [
    "a = int(raw_input())\n",
    "b = int(raw_input())\n",
    "    \n",
    "print(a//b)\n",
    "print(a/b)\n"
   ]
  },
  {
   "cell_type": "markdown",
   "id": "e5a3e1ce",
   "metadata": {},
   "source": [
    "### Question 5: The provided code stub reads and integer,n , from STDIN. For all non-negative integers i < n, print i square."
   ]
  },
  {
   "cell_type": "code",
   "execution_count": null,
   "id": "0f167c83",
   "metadata": {},
   "outputs": [],
   "source": [
    "n = int(raw_input())\n",
    "for i in range(n):\n",
    "    print(i**2)"
   ]
  },
  {
   "cell_type": "markdown",
   "id": "a602cba2",
   "metadata": {},
   "source": [
    "### Question 6:\n",
    "#### An extra day is added to the calendar almost every four years as February 29, and the day is called a leap day. It corrects the calendar for the fact that our planet takes approximately 365.25 days to orbit the sun. A leap year contains a leap day.\n",
    "\n",
    "#### In the Gregorian calendar, three conditions are used to identify leap years:\n",
    "\n",
    "- The year can be evenly divided by 4, is a leap year, unless:\n",
    "- The year can be evenly divided by 100, it is NOT a leap year, unless:\n",
    "- The year is also evenly divisible by 400. Then it is a leap year.\n",
    "- This means that in the Gregorian calendar, the years 2000 and 2400 are leap years, while 1800, 1900, 2100, 2200, 2300 and 2500 are NOT leap years. \n",
    "\n",
    "#### Task\n",
    "\n",
    "#### Given a year, determine whether it is a leap year. If it is a leap year, return the Boolean True, otherwise return False.\n",
    "\n",
    "#### Note that the code stub provided reads from STDIN and passes arguments to the is_leap function. It is only necessary to complete the is_leap function."
   ]
  },
  {
   "cell_type": "code",
   "execution_count": null,
   "id": "202eff0a",
   "metadata": {},
   "outputs": [],
   "source": [
    "def is_leap(year):\n",
    "    leap = False\n",
    "    if year % 400 == 0:\n",
    "        return True\n",
    "    elif year % 100 == 0:\n",
    "        return leap\n",
    "    elif year % 4 == 0:\n",
    "        return True\n",
    "    else:\n",
    "        return leap\n",
    "    # Write your logic here\n",
    "    \n",
    "    #return leap\n",
    "\n",
    "year = int(raw_input())\n",
    "print is_leap(year)"
   ]
  },
  {
   "cell_type": "markdown",
   "id": "80cb3a43",
   "metadata": {},
   "source": [
    "### Question 7: The included code stub will read an integer,n , from STDIN.\n",
    "\n",
    "#### Without using any string methods, try to print the following:\n",
    "#### 123...n\n",
    "\n",
    "\n",
    "#### Note that \"...\" represents the consecutive values in between.\n",
    "\n",
    "#### Example\n",
    "#### n = 5\n",
    "\n",
    "#### Print the string 12345."
   ]
  },
  {
   "cell_type": "code",
   "execution_count": null,
   "id": "72ec9ca4",
   "metadata": {},
   "outputs": [],
   "source": [
    "n = int(raw_input())\n",
    "for i in range(1,n+1):\n",
    "    print(i,end= '')\n"
   ]
  }
 ],
 "metadata": {
  "kernelspec": {
   "display_name": "Python 3 (ipykernel)",
   "language": "python",
   "name": "python3"
  },
  "language_info": {
   "codemirror_mode": {
    "name": "ipython",
    "version": 3
   },
   "file_extension": ".py",
   "mimetype": "text/x-python",
   "name": "python",
   "nbconvert_exporter": "python",
   "pygments_lexer": "ipython3",
   "version": "3.9.7"
  }
 },
 "nbformat": 4,
 "nbformat_minor": 5
}
